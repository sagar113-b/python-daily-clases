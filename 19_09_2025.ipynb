{
  "nbformat": 4,
  "nbformat_minor": 0,
  "metadata": {
    "colab": {
      "provenance": []
    },
    "kernelspec": {
      "name": "python3",
      "display_name": "Python 3"
    },
    "language_info": {
      "name": "python"
    }
  },
  "cells": [
    {
      "cell_type": "code",
      "source": [
        "def add(*args):\n",
        "   total = 0\n",
        "   for num in args:\n",
        "      total +=num\n",
        "   print(\"Total values is:\",total)\n",
        "add(10,5)\n",
        "add(5,4,9)\n",
        "add(10,46,14,20)"
      ],
      "metadata": {
        "colab": {
          "base_uri": "https://localhost:8080/"
        },
        "id": "l7tLAujLlVA3",
        "outputId": "6987603e-7eb5-4057-92e4-131ceb52d1b6"
      },
      "execution_count": 6,
      "outputs": [
        {
          "output_type": "stream",
          "name": "stdout",
          "text": [
            "Total values is: 15\n",
            "Total values is: 18\n",
            "Total values is: 90\n"
          ]
        }
      ]
    },
    {
      "cell_type": "code",
      "source": [
        "def details(**kwargs):\n",
        "   for key,value in kwargs.items():\n",
        "     print(f'my details is {key} and {value}')\n",
        "details(course=\"bca\",section='c', college=\"bk college\")\n",
        "details(place=\"bengaluru\")\n",
        "details(roll_num= 201,T_subject=7)"
      ],
      "metadata": {
        "colab": {
          "base_uri": "https://localhost:8080/"
        },
        "id": "LoPDbgO5rnkn",
        "outputId": "1b989c21-9a40-4182-cef8-d0f7f0104a72"
      },
      "execution_count": 17,
      "outputs": [
        {
          "output_type": "stream",
          "name": "stdout",
          "text": [
            "my details is course and bca\n",
            "my details is section and c\n",
            "my details is college and bk college\n",
            "my details is place and bengaluru\n",
            "my details is roll_num and 201\n",
            "my details is T_subject and 7\n"
          ]
        }
      ]
    },
    {
      "cell_type": "code",
      "source": [
        "def show_values(*args,**kwargs):\n",
        "    print(\"positional arguments represented in tuple\",args)\n",
        "    print(\"key - words arguments represented in dict\",kwargs)\n",
        "show_values(1,2,3,4,name=\"basavarj\")\n",
        "\n",
        "show_values(5,8,1,10,Class=\"bca c secton\",gender=\"male\")\n"
      ],
      "metadata": {
        "colab": {
          "base_uri": "https://localhost:8080/"
        },
        "id": "s_rFYi1fwdME",
        "outputId": "bf040143-6e01-4252-d63c-3865e59d0712"
      },
      "execution_count": 20,
      "outputs": [
        {
          "output_type": "stream",
          "name": "stdout",
          "text": [
            "positional arguments represented in tuple (1, 2, 3, 4)\n",
            "key - words arguments represented in dict {'name': 'basavarj'}\n",
            "positional arguments represented in tuple (5, 8, 1, 10)\n",
            "key - words arguments represented in dict {'Class': 'bca c secton', 'gender': 'male'}\n"
          ]
        }
      ]
    },
    {
      "cell_type": "code",
      "source": [
        "fact = 1\n",
        "for i in range(1,6):\n",
        "    fact *=i\n",
        "print(fact)"
      ],
      "metadata": {
        "colab": {
          "base_uri": "https://localhost:8080/"
        },
        "id": "tx9Pm4ub0PYI",
        "outputId": "bf21d2a4-a107-4adb-8ef8-6bf91e614838"
      },
      "execution_count": 22,
      "outputs": [
        {
          "output_type": "stream",
          "name": "stdout",
          "text": [
            "120\n"
          ]
        }
      ]
    },
    {
      "cell_type": "code",
      "source": [
        "def fact (num):\n",
        "  if num==0 or num==1:\n",
        "    return 1\n",
        "  else:\n",
        "    return num*fact(num-1)\n",
        "print(\"factorialnumber is : \",fact(5))"
      ],
      "metadata": {
        "colab": {
          "base_uri": "https://localhost:8080/"
        },
        "id": "0NvLlil42Yzm",
        "outputId": "908c5814-92fb-4802-821c-5b29e6a3e917"
      },
      "execution_count": 27,
      "outputs": [
        {
          "output_type": "stream",
          "name": "stdout",
          "text": [
            "factorialnumber is :  120\n"
          ]
        }
      ]
    },
    {
      "cell_type": "code",
      "source": [
        "def sum (num):\n",
        "  if num==0:\n",
        "    return num\n",
        "  else:\n",
        "    return num+sum(num-1)\n",
        "sum(10)\n",
        "print(\"sum of n natural number is:\", sum(10))\n",
        "\n",
        "\n",
        ""
      ],
      "metadata": {
        "colab": {
          "base_uri": "https://localhost:8080/"
        },
        "id": "84gWDRQj4Mmv",
        "outputId": "0293f9c7-a695-4f99-80a4-9d715b281ac8"
      },
      "execution_count": 40,
      "outputs": [
        {
          "output_type": "stream",
          "name": "stdout",
          "text": [
            "sum of n natural number is: 55\n"
          ]
        }
      ]
    },
    {
      "cell_type": "code",
      "source": [
        "def fibo(num):\n",
        "   if num <=1:\n",
        "      return num\n",
        "   else:\n",
        "      return fibo(num-1) + fibo(num-2)\n",
        "for i in range(11):\n",
        "  print(fibo(i),end=\" \")"
      ],
      "metadata": {
        "colab": {
          "base_uri": "https://localhost:8080/"
        },
        "id": "tbmTC_4F7wER",
        "outputId": "1bb08d54-ab7d-4350-f25d-d4c731b8de49"
      },
      "execution_count": 41,
      "outputs": [
        {
          "output_type": "stream",
          "name": "stdout",
          "text": [
            "0 1 1 2 3 5 8 13 21 34 55 "
          ]
        }
      ]
    },
    {
      "cell_type": "code",
      "source": [
        "name=\"vasu\"\n",
        "print(name[:4])"
      ],
      "metadata": {
        "colab": {
          "base_uri": "https://localhost:8080/"
        },
        "id": "DSajDZqN93WY",
        "outputId": "8940f42f-b3ec-4bc1-ca46-10dcf1ec7934"
      },
      "execution_count": 66,
      "outputs": [
        {
          "output_type": "stream",
          "name": "stdout",
          "text": [
            "vasu\n"
          ]
        }
      ]
    },
    {
      "cell_type": "code",
      "source": [
        "class fruit:\n",
        "  colour=\"orange\"\n",
        "  price=250\n",
        "  teste=\"sweet\"\n",
        "  shape=\"circle\"\n",
        "  def juice(self):\n",
        "    print(\"good\")\n",
        "orange=fruit()\n",
        "print(\"orange colour is \",orange.colour)"
      ],
      "metadata": {
        "colab": {
          "base_uri": "https://localhost:8080/"
        },
        "id": "Vy1jdaSZKfGh",
        "outputId": "f8847ff7-d608-4a59-ba20-ca37dc9ba5c6"
      },
      "execution_count": 77,
      "outputs": [
        {
          "output_type": "stream",
          "name": "stdout",
          "text": [
            "orange colour is  orange\n"
          ]
        }
      ]
    },
    {
      "cell_type": "code",
      "source": [
        "class student:\n",
        "    def __init__(self,name,marks):\n",
        "        self.__name = name\n",
        "        self.__marks = marks\n",
        "        self.place = place\n",
        "\n",
        "    def set_method(self,name,marks):\n",
        "        self.name = name\n",
        "        self.marks = marks\n",
        "\n",
        "    def get_method(self):\n",
        "        return self.name + \" \" +str(self.marks)\n",
        "    def get_method(self):\n",
        "        return self.marks\n",
        "obj = student(\"sagar\",85,\"kankanawadi\")\n",
        "obj.set_method(\"sharth\",69)\n",
        "print(obj.get_method())"
      ],
      "metadata": {
        "id": "zf5QjuMFz5ox"
      },
      "execution_count": null,
      "outputs": []
    },
    {
      "cell_type": "code",
      "source": [
        "class student:\n",
        "    def __init__(self,name,marks,place):\n",
        "        self.__name = name\n",
        "        self.__marks = marks\n",
        "        self.place = place\n",
        "\n",
        "    def set_method(self,name,marks):\n",
        "        self.name = name\n",
        "        self.marks = marks\n",
        "\n",
        "    def get_method(self):\n",
        "        return self.name + \" \" +str(self.marks)\n",
        "obj= student(\"sagar\",85,\"kankanawadi\")\n",
        "obj.set_method(\"sharath\",69)\n",
        "print(obj.get_method())"
      ],
      "metadata": {
        "colab": {
          "base_uri": "https://localhost:8080/"
        },
        "id": "H3bEaqrJ7aPp",
        "outputId": "12769f23-31a8-4d83-c303-23a7913df246"
      },
      "execution_count": 91,
      "outputs": [
        {
          "output_type": "stream",
          "name": "stdout",
          "text": [
            "sharath 69\n"
          ]
        }
      ]
    },
    {
      "cell_type": "code",
      "source": [
        "class parent :\n",
        "    def work(self):\n",
        "        print(\"my parents are doing forming\")\n",
        "class children(parent):\n",
        "    def study(self):\n",
        "        print(\"i'm studying bca in bk college\")\n",
        "ch = children()\n",
        "ch.work()\n",
        "ch.study()"
      ],
      "metadata": {
        "colab": {
          "base_uri": "https://localhost:8080/"
        },
        "id": "GToG1np28s64",
        "outputId": "f29bde24-2e64-4871-c52b-d78a28d6e629"
      },
      "execution_count": 94,
      "outputs": [
        {
          "output_type": "stream",
          "name": "stdout",
          "text": [
            "my parents are doing forming\n",
            "i'm studying bca in bk college\n"
          ]
        }
      ]
    },
    {
      "cell_type": "code",
      "source": [
        "class father :\n",
        "    def hi(self):\n",
        "        print(\"my father is my first hero\")\n",
        "class mother:\n",
        "    def hello (self):\n",
        "        print(\"my mother is a house wife\")\n",
        "class child(father,mother):\n",
        "    def bye(self):\n",
        "        print(\"i' working as a freealnce\")\n",
        "obj = child()\n",
        "obj.hi()\n",
        "obj.hello()\n",
        "obj.bye()"
      ],
      "metadata": {
        "colab": {
          "base_uri": "https://localhost:8080/"
        },
        "id": "_la2L9i_-qZp",
        "outputId": "dd8571fa-62bc-42f9-d903-979e3fc74675"
      },
      "execution_count": 95,
      "outputs": [
        {
          "output_type": "stream",
          "name": "stdout",
          "text": [
            "my father is my first hero\n",
            "my mother is a house wife\n",
            "i' working as a freealnce\n"
          ]
        }
      ]
    }
  ]
}