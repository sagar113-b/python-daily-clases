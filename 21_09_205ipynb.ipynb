{
  "nbformat": 4,
  "nbformat_minor": 0,
  "metadata": {
    "colab": {
      "provenance": []
    },
    "kernelspec": {
      "name": "python3",
      "display_name": "Python 3"
    },
    "language_info": {
      "name": "python"
    }
  },
  "cells": [
    {
      "cell_type": "code",
      "execution_count": null,
      "metadata": {
        "colab": {
          "base_uri": "https://localhost:8080/"
        },
        "id": "HqIb2e5qcU5Y",
        "outputId": "023197aa-1de8-4c15-bf06-62fce9fa002e"
      },
      "outputs": [
        {
          "output_type": "stream",
          "name": "stdout",
          "text": [
            "Requirement already satisfied: numpy in /usr/local/lib/python3.12/dist-packages (2.0.2)\n"
          ]
        }
      ],
      "source": [
        "!pip install numpy"
      ]
    },
    {
      "cell_type": "code",
      "source": [
        "import numpy as sagar\n",
        "arr = sagar.array([1,2,3,4,5])\n",
        "print(\"numpy arraya;\",arr)"
      ],
      "metadata": {
        "colab": {
          "base_uri": "https://localhost:8080/"
        },
        "id": "IWBD2Toeg_kv",
        "outputId": "4c126de2-8c37-404e-ebe3-bd089112b721"
      },
      "execution_count": null,
      "outputs": [
        {
          "output_type": "stream",
          "name": "stdout",
          "text": [
            "numpy arraya; [1 2 3 4 5]\n"
          ]
        }
      ]
    },
    {
      "cell_type": "code",
      "source": [
        "import numpy as np\n",
        "zeros = np.zeros(5)\n",
        "once = np.ones (5)\n",
        "print(\"zero:\",zeros)\n",
        "print(\"once:\",once)"
      ],
      "metadata": {
        "colab": {
          "base_uri": "https://localhost:8080/"
        },
        "id": "z8_j964rhYqN",
        "outputId": "7742c1e9-b08c-40c3-81a0-0041ef4838b5"
      },
      "execution_count": null,
      "outputs": [
        {
          "output_type": "stream",
          "name": "stdout",
          "text": [
            "zero: [0. 0. 0. 0. 0.]\n",
            "once: [1. 1. 1. 1. 1.]\n"
          ]
        }
      ]
    },
    {
      "cell_type": "code",
      "source": [
        "import numpy as np\n",
        "a = np.array([10,20,30])\n",
        "b = np.array([1,2,3])\n",
        "print(\"addition:\",a+b)\n",
        "print(\"muitiplication:\",a*b)\n"
      ],
      "metadata": {
        "colab": {
          "base_uri": "https://localhost:8080/"
        },
        "id": "32gY2JR4jkTM",
        "outputId": "c5aff0a1-706a-4c64-d173-92cce9c43788"
      },
      "execution_count": null,
      "outputs": [
        {
          "output_type": "stream",
          "name": "stdout",
          "text": [
            "addition: [11 22 33]\n",
            "muitiplication: [10 40 90]\n"
          ]
        }
      ]
    },
    {
      "cell_type": "code",
      "source": [
        "import numpy as np\n",
        "arr = np.array([1,2,4,9,16])\n",
        "print(\"square root:\",np.sqrt(arr))\n",
        "print(\"mean:\",np.mean(arr))"
      ],
      "metadata": {
        "colab": {
          "base_uri": "https://localhost:8080/"
        },
        "id": "KIkKsBZNkh9c",
        "outputId": "7ad81d39-9d17-4048-bc53-effd4760c075"
      },
      "execution_count": null,
      "outputs": [
        {
          "output_type": "stream",
          "name": "stdout",
          "text": [
            "square root: [1.         1.41421356 2.         3.         4.        ]\n",
            "mean: 6.4\n"
          ]
        }
      ]
    },
    {
      "cell_type": "code",
      "source": [
        "import numpy as np\n",
        "from scipy import stats\n",
        "data = np.array([2,4,6,8,10,12,16])\n",
        "mean=np.mean(data)\n",
        "print(\"mean value is:\",mean)\n",
        "median=np.median(data)\n",
        "print(\"median value is:\",median)\n",
        "range=np.max(data)-np.min(data)\n",
        "print(\"range value is:\",range)\n",
        "mode=stats.mode(data)\n",
        "print(\"mode value is:\",mode)"
      ],
      "metadata": {
        "colab": {
          "base_uri": "https://localhost:8080/"
        },
        "id": "2-USFDO-n2Az",
        "outputId": "07b1e690-8613-4888-a18f-4b98355ae91b"
      },
      "execution_count": null,
      "outputs": [
        {
          "output_type": "stream",
          "name": "stdout",
          "text": [
            "mean value is: 8.285714285714286\n",
            "median value is: 8.0\n",
            "range value is: 14\n",
            "mode value is: ModeResult(mode=np.int64(2), count=np.int64(1))\n"
          ]
        }
      ]
    },
    {
      "cell_type": "code",
      "source": [
        "import numpy as np\n",
        "matrix=np.array([[1,2],[3,4]])\n",
        "print(\"matrix:\\n\",matrix)\n",
        "print(\"transpose:|n\",matrix.T)"
      ],
      "metadata": {
        "colab": {
          "base_uri": "https://localhost:8080/"
        },
        "id": "OKjvvpy9olwj",
        "outputId": "569a7e60-d0c4-4bdc-f6b2-8ba883f1945f"
      },
      "execution_count": null,
      "outputs": [
        {
          "output_type": "stream",
          "name": "stdout",
          "text": [
            "matrix:\n",
            " [[1 2]\n",
            " [3 4]]\n",
            "transpose:|n [[1 3]\n",
            " [2 4]]\n"
          ]
        }
      ]
    },
    {
      "cell_type": "markdown",
      "source": [],
      "metadata": {
        "id": "DdgwMe0Bolc0"
      }
    }
  ]
}