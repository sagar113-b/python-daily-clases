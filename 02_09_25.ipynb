{
  "cells": [
    {
      "cell_type": "code",
      "execution_count": null,
      "metadata": {
        "id": "CH_ehApA2TnO",
        "colab": {
          "base_uri": "https://localhost:8080/"
        },
        "outputId": "fb9e5646-5dbc-439d-aca4-d6aeeb9c0e8b"
      },
      "outputs": [
        {
          "output_type": "stream",
          "name": "stdout",
          "text": [
            "VEDANT\n"
          ]
        }
      ],
      "source": [
        "print('VEDANT')"
      ]
    },
    {
      "cell_type": "code",
      "execution_count": null,
      "metadata": {
        "id": "VvKKq7mu2Xtx",
        "colab": {
          "base_uri": "https://localhost:8080/"
        },
        "outputId": "a04f8078-86da-4167-edec-ce4ee83a0b3e"
      },
      "outputs": [
        {
          "output_type": "stream",
          "name": "stdout",
          "text": [
            "4\n"
          ]
        }
      ],
      "source": [
        "print(2+2)"
      ]
    },
    {
      "cell_type": "code",
      "execution_count": null,
      "metadata": {
        "colab": {
          "base_uri": "https://localhost:8080/"
        },
        "id": "hHDSnzoV2eBF",
        "outputId": "a4f55b69-08ac-47ae-f9fc-c23417caf4fd"
      },
      "outputs": [
        {
          "output_type": "stream",
          "name": "stdout",
          "text": [
            "12\n"
          ]
        }
      ],
      "source": [
        "a=12\n",
        "print(a)"
      ]
    },
    {
      "cell_type": "code",
      "execution_count": null,
      "metadata": {
        "id": "WWP7kTW43Nss",
        "colab": {
          "base_uri": "https://localhost:8080/"
        },
        "outputId": "7ad6d171-8e88-4cb2-81b0-4a182652a57e"
      },
      "outputs": [
        {
          "output_type": "stream",
          "name": "stdout",
          "text": [
            "100\n"
          ]
        }
      ],
      "source": [
        "Total_fruits=100\n",
        "print(Total_fruits)"
      ]
    },
    {
      "cell_type": "code",
      "execution_count": null,
      "metadata": {
        "id": "VTetAuTN3iVH",
        "colab": {
          "base_uri": "https://localhost:8080/"
        },
        "outputId": "299b43ef-88ab-4451-cd7f-2fb7c2e48289"
      },
      "outputs": [
        {
          "output_type": "stream",
          "name": "stdout",
          "text": [
            "Water\n"
          ]
        }
      ],
      "source": [
        "Battle=\"Water\"\n",
        "print(Battle)"
      ]
    },
    {
      "cell_type": "code",
      "execution_count": null,
      "metadata": {
        "id": "S7GlhjcX6bb_",
        "colab": {
          "base_uri": "https://localhost:8080/"
        },
        "outputId": "2410368c-03bc-4dc9-bdaf-35ecac651d70"
      },
      "outputs": [
        {
          "output_type": "stream",
          "name": "stdout",
          "text": [
            "100\n"
          ]
        }
      ],
      "source": [
        "First_number=50\n",
        "Second_number=50\n",
        "Total = First_number + Second_number\n",
        "print(Total)"
      ]
    },
    {
      "cell_type": "markdown",
      "metadata": {
        "id": "XWBrmW0h8MYO"
      },
      "source": []
    },
    {
      "cell_type": "code",
      "execution_count": null,
      "metadata": {
        "id": "51gnXKRZ8Hd4",
        "colab": {
          "base_uri": "https://localhost:8080/"
        },
        "outputId": "de9483db-58ea-4432-85f1-703bf6463a8c"
      },
      "outputs": [
        {
          "output_type": "stream",
          "name": "stdout",
          "text": [
            "students\n"
          ]
        }
      ],
      "source": [
        "Class = \"students\"\n",
        "print(Class)\n"
      ]
    },
    {
      "cell_type": "code",
      "execution_count": null,
      "metadata": {
        "id": "WaNN1IlH8eD-",
        "colab": {
          "base_uri": "https://localhost:8080/"
        },
        "outputId": "0ab78989-43a4-4d05-bfef-4e00afb28de4"
      },
      "outputs": [
        {
          "output_type": "stream",
          "name": "stdout",
          "text": [
            "30\n"
          ]
        }
      ],
      "source": [
        "Mango=10\n",
        "Apple=20\n",
        "Total=Mango+Apple\n",
        "print(Total)\n"
      ]
    },
    {
      "cell_type": "code",
      "execution_count": null,
      "metadata": {
        "id": "D137bCD59MJY",
        "colab": {
          "base_uri": "https://localhost:8080/"
        },
        "outputId": "611e7486-760c-40cb-8a56-7fa448fa0f28"
      },
      "outputs": [
        {
          "output_type": "stream",
          "name": "stdout",
          "text": [
            "64\n"
          ]
        }
      ],
      "source": [
        "z=2\n",
        "x=4\n",
        "y=8\n",
        "v=z*x*y\n",
        "print(v)"
      ]
    },
    {
      "cell_type": "code",
      "execution_count": null,
      "metadata": {
        "id": "hswwJ_ca95OH"
      },
      "outputs": [],
      "source": []
    },
    {
      "cell_type": "code",
      "execution_count": null,
      "metadata": {
        "id": "LmKtkg0Z9cpO",
        "colab": {
          "base_uri": "https://localhost:8080/"
        },
        "outputId": "e6338dcd-9762-43e5-e5d2-bce9201aa3a1"
      },
      "outputs": [
        {
          "output_type": "stream",
          "name": "stdout",
          "text": [
            "5.0\n"
          ]
        }
      ],
      "source": [
        "a=10\n",
        "b=2\n",
        "c=a/b\n",
        "print(c)"
      ]
    },
    {
      "cell_type": "code",
      "execution_count": null,
      "metadata": {
        "id": "60Zj60G1_PYE",
        "colab": {
          "base_uri": "https://localhost:8080/"
        },
        "outputId": "6d9de6ed-2ba0-485d-c5d1-b43440ad741f"
      },
      "outputs": [
        {
          "output_type": "stream",
          "name": "stdout",
          "text": [
            "Its a programing language\n",
            "is my favourite language\n"
          ]
        }
      ],
      "source": [
        "python=\"Its a programing language\"\n",
        "print(python)\n",
        "sub=\"is my favourite language\"\n",
        "print(sub)"
      ]
    },
    {
      "cell_type": "code",
      "execution_count": null,
      "metadata": {
        "id": "tVqgceo7_Znx",
        "colab": {
          "base_uri": "https://localhost:8080/"
        },
        "outputId": "57316ee0-4487-4c0a-898c-0b589faeff06"
      },
      "outputs": [
        {
          "output_type": "stream",
          "name": "stdout",
          "text": [
            "10 20 30 40\n"
          ]
        }
      ],
      "source": [
        "a,b,c,d=10,20,30,40\n",
        "print(a,b,c,d)"
      ]
    },
    {
      "cell_type": "code",
      "execution_count": null,
      "metadata": {
        "id": "-RvzPzy2q8EB",
        "colab": {
          "base_uri": "https://localhost:8080/"
        },
        "outputId": "a215b4c7-d745-4f4b-a1ef-b14e97eba9d1"
      },
      "outputs": [
        {
          "output_type": "stream",
          "name": "stdout",
          "text": [
            "-1170\n"
          ]
        }
      ],
      "source": [
        "add,sub,mul,div=10,20,30,40\n",
        "print(add+sub-mul*div )"
      ]
    },
    {
      "cell_type": "code",
      "execution_count": null,
      "metadata": {
        "id": "4BXz99qrvRMF"
      },
      "outputs": [],
      "source": [
        "print(2*3+5**2-3%4)"
      ]
    },
    {
      "cell_type": "code",
      "execution_count": null,
      "metadata": {
        "id": "__oHVtv9vP89"
      },
      "outputs": [],
      "source": [
        "hi,hello,bye=10,3.14,\"sanat\"\n",
        "print()\n",
        "print(hi)\n",
        "print(bye)\n",
        "print(hello)\n",
        "print()"
      ]
    },
    {
      "cell_type": "code",
      "execution_count": null,
      "metadata": {
        "id": "_HGH3dVFxEml"
      },
      "outputs": [],
      "source": [
        "Num=True\n",
        "print(type(num))\n"
      ]
    },
    {
      "cell_type": "code",
      "execution_count": null,
      "metadata": {
        "id": "gWjfsgLp1Xjd"
      },
      "outputs": [],
      "source": [
        "Adress='''My name is vedant ,i am from manuchivadi,584128'''\n",
        "print(type(Adress))"
      ]
    },
    {
      "cell_type": "code",
      "execution_count": null,
      "metadata": {
        "id": "fL54y7fR1XcE"
      },
      "outputs": [],
      "source": [
        "#LIST\n",
        "items=[\"apple\",\"rice\",\"wheat\",\"banana\",\"mango\",\"true\"]\n",
        "print(items)\n",
        "items.append(\"potato\")\n",
        "print(items)\n",
        "items.remove(\"rice\")\n",
        "print(items)\n",
        "print(items[0:3])\n",
        "print(len(items))\n",
        "print(type(items))\n",
        "print(type(items))\n",
        "print(items)\n",
        "\n"
      ]
    },
    {
      "cell_type": "code",
      "source": [
        "#TUPLE\n",
        "ex=(181,\"Sanat\",81.16,'Manochiwadi',True)\n",
        "print(ex)\n",
        "\n",
        "#TYPE CHECKING\n",
        "print(type(ex))\n",
        "\n",
        "#LENGHT\n",
        "print(len(ex))\n",
        "\n",
        "#ACCESING VALUE THROUGH INDEX\n",
        "print(ex[1])\n",
        "\n",
        "print(ex[4])\n",
        "\n",
        "#SLICING\n",
        "print(ex[0:4])\n",
        "\n",
        "#REVERSE\n",
        "print(ex[::-1])"
      ],
      "metadata": {
        "id": "tDDEp0767X9y"
      },
      "execution_count": null,
      "outputs": []
    },
    {
      "cell_type": "code",
      "source": [
        "x=(1,2,3,4)\n",
        "y=(4,5,6,7)\n",
        "z=(0,5,7,9)\n",
        "print(x+y+z)\n",
        "print(type(x))\n",
        "print(x*3)"
      ],
      "metadata": {
        "id": "34in429k-4jj"
      },
      "execution_count": null,
      "outputs": []
    },
    {
      "cell_type": "code",
      "source": [
        "#SET\n",
        "\n",
        "EX={1,2,3,4,5}\n",
        "print(EX)\n",
        "\n",
        "#TYPE\n",
        "print(type(EX))\n",
        "\n",
        "#LEN\n",
        "print(len(EX))\n",
        "\n",
        "#ADD\n",
        "EX.add('6')\n",
        "print(EX)\n",
        "\n",
        "EX.add(3.33)\n",
        "print(EX)\n",
        "\n",
        "#POP\n",
        "EX.pop()\n",
        "print(EX)\n",
        "\n",
        "#REMOVE\n",
        "EX.remove(5)\n",
        "print(EX)\n",
        "\n",
        "#EX.sort()\n",
        "print(EX)\n",
        "\n",
        "\n",
        "\n"
      ],
      "metadata": {
        "id": "yAh6NFk0Bas6"
      },
      "execution_count": null,
      "outputs": []
    },
    {
      "cell_type": "code",
      "source": [
        "A={1,2,3,4,5}\n",
        "B={5,6,7,8}\n",
        "\n",
        "print(A | B)\n",
        "print(A.union(B))\n",
        "\n",
        "print(A&B)\n",
        "print(A.intersection(B))\n",
        "\n",
        "print(A.difference(B))\n",
        "print(A-B)\n",
        "print(B-A)"
      ],
      "metadata": {
        "id": "qllyY1JmGu8q"
      },
      "execution_count": null,
      "outputs": []
    },
    {
      "cell_type": "code",
      "source": [
        "#DICTIORY1\n",
        "\n",
        "dict={'name':'sanat',\n",
        "      'age':19,\n",
        "      'per':81.16,\n",
        "      'result':True,\n",
        "      'place':\"kothali\"\n",
        "      }\n",
        "print(dict)\n",
        "#2\n",
        "print(type(dict))\n",
        "#3\n",
        "print(len(dict))\n",
        "#4\n",
        "dict[\"College\"]='BK CHIKODI'\n",
        "print(dict)\n",
        "\n",
        "dict[\"dob\"]=\"18/05/2007\"\n",
        "print(dict)\n",
        "\n",
        "dict[\"phone no\"]=9008726308\n",
        "print(dict)\n",
        "\n",
        "print(len(dict))\n",
        "\n",
        "#ACCESS5\n",
        "print(dict['age'])\n",
        "\n",
        "dict['Gender']='male'\n",
        "print(dict)\n",
        "\n",
        "print(dict['Gender'])\n",
        "#6\n",
        "del dict['place']\n",
        "print(dict)\n",
        "#789\n",
        "print(dict.keys())\n",
        "print(dict.values())\n",
        "print(dict.items())\n",
        "\n",
        "dict['result']=False\n",
        "print(dict)"
      ],
      "metadata": {
        "id": "PvduRr9PJvG6"
      },
      "execution_count": null,
      "outputs": []
    },
    {
      "cell_type": "code",
      "source": [
        "#STRING\n",
        "x =\"RASHMIKA\"\n",
        "y =\" MANDHANA+\"\n",
        "print(x + y)\n",
        "\n",
        "print(x+y+ \" is the national crush\")\n",
        "\n",
        "print(\" BYE\"*5)\n",
        "\n",
        "College=\"basav prabhbu kore college\"\n",
        "print()"
      ],
      "metadata": {
        "id": "9nh0bi9WVSzC"
      },
      "execution_count": null,
      "outputs": []
    },
    {
      "cell_type": "code",
      "source": [
        "#input funtion()\n",
        "\n",
        "shivshankar='''multi line comment\n",
        "         syntax:\n",
        "          variable_name = input(\"Enter a value\")\n",
        "'''\n",
        "print(shivshankar)\n",
        "print(\"your wrong\")\n",
        "\n"
      ],
      "metadata": {
        "id": "Ot6ZbOgRRXSF"
      },
      "execution_count": null,
      "outputs": []
    },
    {
      "cell_type": "code",
      "source": [
        "demo=\"10\"\n",
        "print(demo,type(demo))\n",
        "x=tuple(demo)\n",
        "print(x,type(x))"
      ],
      "metadata": {
        "id": "D0fIRnXaeH-q"
      },
      "execution_count": null,
      "outputs": []
    },
    {
      "cell_type": "code",
      "source": [
        "demo=10\n",
        "print(demo,type(demo))\n",
        "x=str(demo)\n",
        "print(x,type(x))"
      ],
      "metadata": {
        "id": "yeRALfaqffbi"
      },
      "execution_count": null,
      "outputs": []
    },
    {
      "cell_type": "code",
      "source": [
        "a={1,2,3}\n",
        "print(type(a))\n",
        "b=tuple(a)\n",
        "print(type(b))"
      ],
      "metadata": {
        "id": "O9AKXz2Xfn-Z",
        "colab": {
          "base_uri": "https://localhost:8080/"
        },
        "outputId": "05f969bc-74af-4fb9-9c9d-6113a93682b8"
      },
      "execution_count": null,
      "outputs": [
        {
          "output_type": "stream",
          "name": "stdout",
          "text": [
            "<class 'set'>\n",
            "<class 'tuple'>\n"
          ]
        }
      ]
    },
    {
      "cell_type": "code",
      "source": [
        "a=[1,2,3]\n",
        "print(type(a))\n",
        "b=set(a)\n",
        "print(type(b))"
      ],
      "metadata": {
        "id": "swwCZuU9gPox",
        "colab": {
          "base_uri": "https://localhost:8080/"
        },
        "outputId": "4a428b37-efb5-4c6f-aaaa-9b255580e89c"
      },
      "execution_count": null,
      "outputs": [
        {
          "output_type": "stream",
          "name": "stdout",
          "text": [
            "<class 'list'>\n",
            "<class 'set'>\n"
          ]
        }
      ]
    },
    {
      "cell_type": "code",
      "source": [
        "x=(1,2,3)\n",
        "print(x,type(x))"
      ],
      "metadata": {
        "id": "egT1SFa-h_ax",
        "colab": {
          "base_uri": "https://localhost:8080/"
        },
        "outputId": "37441736-0fa1-4ec1-9b5e-0f7b7fc225c7"
      },
      "execution_count": null,
      "outputs": [
        {
          "output_type": "stream",
          "name": "stdout",
          "text": [
            "(1, 2, 3) <class 'tuple'>\n"
          ]
        }
      ]
    },
    {
      "cell_type": "code",
      "source": [
        " i=10\n",
        " j=20\n",
        " k=i+j\n",
        " l=10+20\n",
        " print(k)\n",
        " print(l)"
      ],
      "metadata": {
        "id": "48dadSSfiVEZ",
        "colab": {
          "base_uri": "https://localhost:8080/"
        },
        "outputId": "7e5b38ed-2bed-44b0-ef1f-929bdcadc942"
      },
      "execution_count": null,
      "outputs": [
        {
          "output_type": "stream",
          "name": "stdout",
          "text": [
            "30\n",
            "30\n"
          ]
        }
      ]
    },
    {
      "cell_type": "code",
      "source": [
        "print(10%5)"
      ],
      "metadata": {
        "id": "v6t68A8dmdxp",
        "colab": {
          "base_uri": "https://localhost:8080/"
        },
        "outputId": "89737fd4-56b1-4dd9-cd33-089950df573e"
      },
      "execution_count": null,
      "outputs": [
        {
          "output_type": "stream",
          "name": "stdout",
          "text": [
            "0\n"
          ]
        }
      ]
    },
    {
      "cell_type": "code",
      "source": [
        "print(12/2)\n",
        "print()"
      ],
      "metadata": {
        "id": "d77SzekWm5J4",
        "colab": {
          "base_uri": "https://localhost:8080/"
        },
        "outputId": "ff8f37db-c60f-45b4-c910-00f6f906c42c"
      },
      "execution_count": null,
      "outputs": [
        {
          "output_type": "stream",
          "name": "stdout",
          "text": [
            "6.0\n",
            "\n"
          ]
        }
      ]
    },
    {
      "cell_type": "code",
      "source": [
        "a=10\n",
        "b=20\n",
        "print(\"before swapping\")\n",
        "print(\"a=\",a,\"b=\",b)\n",
        "print()\n",
        "print(\"after swaping\")\n",
        "temp=a\n",
        "a=b\n",
        "b=temp\n",
        "print(\"a=\",a,\"b=\",b)"
      ],
      "metadata": {
        "id": "sYi-PSlfsdHB",
        "colab": {
          "base_uri": "https://localhost:8080/"
        },
        "outputId": "9e6a9cbb-a996-42ec-b941-8407315d16d9"
      },
      "execution_count": null,
      "outputs": [
        {
          "output_type": "stream",
          "name": "stdout",
          "text": [
            "before swapping\n",
            "a= 10 b= 20\n",
            "\n",
            "after swaping\n",
            "a= 20 b= 10\n"
          ]
        }
      ]
    },
    {
      "cell_type": "code",
      "source": [
        "3.\n",
        "from ast import Yield\n",
        "#ADITION\n",
        "x=int(input(\"enter the value\"))\n",
        "y=int(input(\"enter the value\"))\n",
        "sum=x+y\n",
        "print(\"the sum of two value is:\",sum)\n",
        "print()\n",
        "#SUBSTRACTION\n",
        "x=int(input(\"enter the value\"))\n",
        "y=int(input(\"enter the value\"))\n",
        "sub=x-y\n",
        "print(\"the sub of two value is:\",sub)\n",
        "print()\n",
        "#MULTIFICATION\n",
        "x=int(input(\"enter the value\"))\n",
        "y=int(input(\"enter the value\"))\n",
        "mul=x*y\n",
        "print(\"the mul of two value is:\",mul)\n",
        "print()\n",
        "#DIVISION\n",
        "x=int(input(\"enter the value\"))\n",
        "y=int(input(\"enter the value\"))\n",
        "div=x/y\n",
        "print(\"the div of two value is:\",div)\n",
        "print()\n",
        "#MODULUS\n",
        "x=int(input(\"enter the value\"))\n",
        "y=int(input(\"enter the value\"))\n",
        "mod=x%y\n",
        "print(\"the mod of two value is:\",mod)\n",
        "print()\n",
        "#EXPONTIAL\n",
        "x=int(input(\"enter the value\"))\n",
        "y=int(input(\"enter the value\"))\n",
        "exp=x**y\n",
        "print(\"the exp of two value is:\",exp)\n",
        "print()\n",
        "#FLOOER DIVISION\n",
        "x=int(input(\"enter the value\"))\n",
        "y=int(input(\"enter the value\"))\n",
        "fdiv\n",
        "print(\"the fdiv of two value is:\",fdiv)\n",
        "print()"
      ],
      "metadata": {
        "id": "ADegUXj2nSfZ",
        "colab": {
          "base_uri": "https://localhost:8080/"
        },
        "outputId": "e18cccfa-6796-433b-f079-b2f7eccab159"
      },
      "execution_count": null,
      "outputs": [
        {
          "metadata": {
            "tags": null
          },
          "name": "stdout",
          "output_type": "stream",
          "text": [
            "the sum of two value is: 30\n",
            "\n",
            "the sub of two value is: 10\n",
            "\n",
            "the mul of two value is: 200\n",
            "\n",
            "the div of two value is: 0.8\n",
            "\n",
            "the mod of two value is: 0\n",
            "\n"
          ]
        }
      ]
    },
    {
      "cell_type": "code",
      "source": [
        "a=10\n",
        "b=20\n",
        "print(\"before swapping\")\n",
        "print(\"a=\",a,\"b=\",b)\n",
        "print()\n",
        "print(\"after swaping\")\n",
        "a=a+b\n",
        "b=a-b\n",
        "a=a-b\n",
        "print(\"a=\",a,\"b=\",b)"
      ],
      "metadata": {
        "id": "chKKr5GCxtpg"
      },
      "execution_count": null,
      "outputs": []
    },
    {
      "cell_type": "code",
      "source": [
        "#COMPARISION OPERATOR\n",
        "\n",
        "A=10\n",
        "B=20\n",
        "print(A<B)"
      ],
      "metadata": {
        "id": "RYfODKJ7ytWB"
      },
      "execution_count": null,
      "outputs": []
    },
    {
      "cell_type": "code",
      "source": [
        "A=10\n",
        "B=20\n",
        "print(A > B)\n",
        "print(A < B)\n",
        "print(A >= B)\n",
        "print(A <=B)\n",
        "print(A ==B)\n",
        "print(A !=B)"
      ],
      "metadata": {
        "id": "OWqNCCAa07ZH"
      },
      "execution_count": null,
      "outputs": []
    },
    {
      "cell_type": "code",
      "source": [
        "X=5\n",
        "X=X+5\n",
        "print(X)\n",
        "X=10\n",
        "X=X-3\n",
        "print(X)\n",
        "X=7\n",
        "X=X*5\n",
        "print(X)\n",
        "X=35\n",
        "X=X/5\n",
        "print(X)\n",
        "X=7\n",
        "X=X**2\n",
        "print(X)\n",
        "X=49\n",
        "X=X%2\n",
        "print(X)\n",
        "X=1\n",
        "X=X//1\n",
        "print(X)"
      ],
      "metadata": {
        "id": "o0v2jxYIBrKo"
      },
      "execution_count": null,
      "outputs": []
    },
    {
      "cell_type": "code",
      "source": [
        "colour=(input(\"enter the signal colour :\"))\n",
        "if colour==\"red\":\n",
        "  print(\"Stop\")\n",
        "elif colour==\"yellow\":\n",
        "  print(\"Ready to go\")\n",
        "elif colour==\"green\":\n",
        "  print(\"Go\")\n",
        "else:\n",
        "  print(\"invalid signal colour\")"
      ],
      "metadata": {
        "id": "ex3YTxmbQBCU"
      },
      "execution_count": null,
      "outputs": []
    },
    {
      "cell_type": "code",
      "source": [
        "Num = 1\n",
        "while Num <= 10:\n",
        "  print(Num)\n",
        "  Num=Num+1"
      ],
      "metadata": {
        "id": "ifwI-EcFY9DT"
      },
      "execution_count": null,
      "outputs": []
    },
    {
      "cell_type": "code",
      "source": [
        "Num = 2\n",
        "while Num<=100:\n",
        "  print(Num)\n",
        "  Num=Num+2"
      ],
      "metadata": {
        "id": "wufMvn2sZpa7"
      },
      "execution_count": null,
      "outputs": []
    },
    {
      "cell_type": "code",
      "source": [
        "Num= 153\n",
        "add=0\n",
        "temp = Num #Num and temp values both are equal 153\n",
        "while Num != 0:\n",
        "  rem = Num%10\n",
        "  add= add + rem * rem * rem\n",
        "  Num=Num//10\n",
        "if temp == add:\n",
        "  print(\"ArmStrong Number\")\n",
        "else:\n",
        "    print(\"Not ArmStong Number\")\n"
      ],
      "metadata": {
        "id": "zMywZs2iani7"
      },
      "execution_count": null,
      "outputs": []
    },
    {
      "cell_type": "code",
      "source": [
        "Num=5\n",
        "while Num<=50:\n",
        "  print(Num,end=\" \")\n",
        "  Num = Num+5"
      ],
      "metadata": {
        "id": "wG0ul-hHkW_7"
      },
      "execution_count": null,
      "outputs": []
    },
    {
      "cell_type": "code",
      "source": [
        "i=1\n",
        "add=0\n",
        "while i<=10:\n",
        "  add=add+i\n",
        "  i=i+1\n",
        "print(\"Sum of N natural number is\",add)"
      ],
      "metadata": {
        "id": "5tQ2UeD0pUqq"
      },
      "execution_count": null,
      "outputs": []
    },
    {
      "cell_type": "code",
      "source": [
        "Num=5\n",
        "i=1\n",
        "fact = 1\n",
        "while i<=Num :\n",
        "  fact=fact*i\n",
        "  i+=1\n",
        "print(\"Total Factorial value is:\",fact)"
      ],
      "metadata": {
        "id": "eu3JZyB-qNLj"
      },
      "execution_count": null,
      "outputs": []
    },
    {
      "cell_type": "code",
      "source": [
        "Num=12345\n",
        "while"
      ],
      "metadata": {
        "id": "mYp8Ants2kcT"
      },
      "execution_count": null,
      "outputs": []
    },
    {
      "cell_type": "code",
      "source": [
        "num=int(input(\"Enter number is :\"))\n",
        "temp=num\n",
        "pol=0\n",
        "while num !=0:\n",
        "    rem=num%10\n",
        "    pol=pol*10+rem\n",
        "    num=num//10\n",
        "if temp == pol:\n",
        "    print(\"Polindrone\")\n",
        "else:\n",
        "    print(\"Not Polindrone number\")"
      ],
      "metadata": {
        "id": "IMJQnfK4Pi6g"
      },
      "execution_count": null,
      "outputs": []
    },
    {
      "cell_type": "code",
      "source": [
        "for i in \"mobile\":\n",
        "    print(i)"
      ],
      "metadata": {
        "id": "IXCApJQwTA44"
      },
      "execution_count": null,
      "outputs": []
    },
    {
      "cell_type": "code",
      "source": [
        "Num = [1,2,3,4,5,6,7,8,9,10]\n",
        "Total = 0\n",
        "for i in Num:\n",
        "    Total = Total + i\n",
        "print(Total)"
      ],
      "metadata": {
        "id": "IH1YgRmSVgTH"
      },
      "execution_count": null,
      "outputs": []
    },
    {
      "cell_type": "code",
      "source": [
        "for i in range(10):\n",
        "  print(i,end=\" \")"
      ],
      "metadata": {
        "id": "7r1TBRaJVf3f"
      },
      "execution_count": null,
      "outputs": []
    },
    {
      "cell_type": "code",
      "source": [
        "I1p=\"KLE BCA\"\n",
        "print(I1p)"
      ],
      "metadata": {
        "id": "lzVfAJzBtT8I"
      },
      "execution_count": null,
      "outputs": []
    },
    {
      "cell_type": "code",
      "source": [
        "i1p=\"KLE BCA\"\n",
        "o_p=\" \"\n",
        "for i in i1p:\n",
        "  o_p = i + o_p\n",
        "  print(o_p)\n"
      ],
      "metadata": {
        "id": "VY8xtidbvhsX"
      },
      "execution_count": null,
      "outputs": []
    },
    {
      "cell_type": "code",
      "source": [
        "n=[10,30,50,35,26,55,9,42]\n",
        "for i in n:\n",
        "  largest_num = max(n)\n",
        "print(\"largest number \", largest_num)"
      ],
      "metadata": {
        "id": "PpSir9ZOwByo"
      },
      "execution_count": null,
      "outputs": []
    },
    {
      "cell_type": "code",
      "source": [
        "n=[10,30,50,35,26,55,9,42]\n",
        "largest=n[0]\n",
        "for i in n:\n",
        "  if i > largest:\n",
        "      largest = i\n",
        "print(\"largest number is: \",largest)"
      ],
      "metadata": {
        "id": "7X9hFr1h17Wg"
      },
      "execution_count": null,
      "outputs": []
    },
    {
      "cell_type": "code",
      "source": [
        "for i in range(10,0,-1):\n",
        "  print(i,end=\" \")\n"
      ],
      "metadata": {
        "id": "AEMnyT9S4WFI"
      },
      "execution_count": null,
      "outputs": []
    },
    {
      "cell_type": "code",
      "source": [
        "Num=1\n",
        "fact=1\n",
        "for i in range(1,Num+1):\n",
        "  fact=fact*i\n",
        "print(\"Factorial of Num is :\",fact)"
      ],
      "metadata": {
        "id": "gT9Op2I46Yfw"
      },
      "execution_count": null,
      "outputs": []
    },
    {
      "cell_type": "code",
      "source": [
        "a,b=0,1\n",
        "for i in range(11):\n",
        "  print(a,end=\" \")\n",
        "  a,b=b,a+b"
      ],
      "metadata": {
        "id": "fZJx0Xbo-EAH"
      },
      "execution_count": null,
      "outputs": []
    },
    {
      "cell_type": "code",
      "source": [
        "for i in range(1,11):\n",
        "  print(i,\"*\",i,\"=\",i*i)"
      ],
      "metadata": {
        "id": "zvnlxefRBKFv"
      },
      "execution_count": null,
      "outputs": []
    },
    {
      "cell_type": "code",
      "source": [
        "x=\"BASAVA PRABHU KORE COLLEGE IN CHIKODI\"\n",
        "vowels=\"aeiouAEIOU\"\n",
        "count=0\n",
        "for i in x:\n",
        "  if i in vowels:\n",
        "    count=count+1\n",
        "print(\"Numbers of vowels\",count)"
      ],
      "metadata": {
        "id": "ZnFlp731CIU-"
      },
      "execution_count": null,
      "outputs": []
    },
    {
      "cell_type": "code",
      "source": [
        "for i in range (1,10):\n",
        "  if i==5:\n",
        "    break\n",
        "  print(i,end=\" \")"
      ],
      "metadata": {
        "id": "poRQ3JxAIJ4c"
      },
      "execution_count": null,
      "outputs": []
    },
    {
      "cell_type": "code",
      "source": [
        "signals=[\"red\",\"green\",\"yellow\"]\n",
        "for i in signals:\n",
        "  if i==\"black\":\n",
        "    break\n",
        "  print(i,end=\"\")"
      ],
      "metadata": {
        "id": "AkUMP6-3KTXN"
      },
      "execution_count": null,
      "outputs": []
    },
    {
      "cell_type": "code",
      "source": [
        "colours=[\"red\",\"green\",\"yellow\",\"pink\",\"black\",\"orange\",\"blue\",\"maroon\"]\n",
        "for i in colours:\n",
        "  if i==\"white\":\n",
        "    break\n",
        "  print(i,end=\" \")"
      ],
      "metadata": {
        "id": "wctckrCoLDeu"
      },
      "execution_count": null,
      "outputs": []
    },
    {
      "cell_type": "code",
      "source": [
        "vehicles=(\"Bullet\",\"Spelndor\",\"M80\",\"Yamaha\",\"Hf delux\",\"passion pro\",\"Sp shine\",\"XL 100\")\n",
        "for i in vehicles:\n",
        "  if i==\"auto\":\n",
        "    break\n",
        "  print(i,end=\"   \")"
      ],
      "metadata": {
        "id": "5R9P901RLsu1"
      },
      "execution_count": null,
      "outputs": []
    },
    {
      "cell_type": "code",
      "source": [
        "mobiles=(\"i phone\",\"realme\",\"one plus\",\"redmi\",\"nokia\",\"samsung\",\"oppo\",\"nothing\",\"vivo\",\"techno\",\"lava\",\"infinix\",\"moto\",\"iQ\")\n",
        "for i in mobiles:\n",
        "  if i ==\"vivo\":\n",
        "    break\n",
        "  print(i,end=\"  \")"
      ],
      "metadata": {
        "id": "IAWzUGkpORhF"
      },
      "execution_count": null,
      "outputs": []
    },
    {
      "cell_type": "code",
      "source": [
        "movies=(\"chhava\",\"sairat\",\"animal\",\"pushpa\",\"KGF\",\"3 idiots\",\"dangal\",\"bahubali\",\"maha avatar narshimha\",\"dragon\")\n",
        "for i in movies:\n",
        "  if i==\"KGF\":\n",
        "    continue\n",
        "  print(i,end=\"  \")"
      ],
      "metadata": {
        "id": "zhrbNcqMPsfE"
      },
      "execution_count": null,
      "outputs": []
    },
    {
      "cell_type": "code",
      "source": [
        "for i in range(5):\n",
        "  if i==3:\n",
        "    pass\n",
        "  print(i)"
      ],
      "metadata": {
        "id": "NeUEHP3-XID1"
      },
      "execution_count": null,
      "outputs": []
    },
    {
      "cell_type": "code",
      "source": [
        "for i in \"Computer\":\n",
        "  print(i)"
      ],
      "metadata": {
        "id": "lIQFZzOyYX_7"
      },
      "execution_count": null,
      "outputs": []
    },
    {
      "cell_type": "code",
      "source": [
        "for i in  range(3):\n",
        "  for j in range(3):\n",
        "    print(i,j)"
      ],
      "metadata": {
        "id": "kml6mUPUZHXr"
      },
      "execution_count": null,
      "outputs": []
    },
    {
      "cell_type": "code",
      "source": [
        "for i in  range(3):\n",
        "  for j in range(3):\n",
        "    print(\"{*_*}\",end=\"   \")\n",
        "  print()\n",
        "  print()\n",
        "  print()"
      ],
      "metadata": {
        "id": "WRR8c8Fud3Wz"
      },
      "execution_count": null,
      "outputs": []
    },
    {
      "cell_type": "code",
      "source": [
        "for i in range(20):\n",
        "  for j in range(10):\n",
        "    print(\"JAY SHREE RAM\",end=\"   \")\n",
        "  print()\n",
        "  print()"
      ],
      "metadata": {
        "id": "U26mVUzQZUkz"
      },
      "execution_count": null,
      "outputs": []
    },
    {
      "cell_type": "code",
      "source": [
        "for i in range(20):\n",
        "  for j in range(i):\n",
        "    print(\"*\",end=\"  \")\n",
        "  print()"
      ],
      "metadata": {
        "id": "7MgwAKufeirC"
      },
      "execution_count": null,
      "outputs": []
    },
    {
      "cell_type": "code",
      "source": [
        "for i in range(20,0,-1):\n",
        "  for j in range(i):\n",
        "    print(\"*\",end=\"  \")\n",
        "  print()"
      ],
      "metadata": {
        "id": "XFu7Syp5jaj5"
      },
      "execution_count": null,
      "outputs": []
    },
    {
      "cell_type": "code",
      "source": [
        "rows = int(input(\"Enter rows:\"))\n",
        "cols = int(input(\"Enter Cols:\"))\n",
        "\n",
        "for i in range(0, rows):\n",
        "    for j in range(0, cols):\n",
        "        if i==0 or j==0 or i == rows-1 or j == cols-1:\n",
        "            print(\"*\", end=\"  \")\n",
        "        else:\n",
        "            print(\" \", end=\"  \")\n",
        "    print()"
      ],
      "metadata": {
        "id": "h8ANGy-0kBBI"
      },
      "execution_count": null,
      "outputs": []
    },
    {
      "cell_type": "code",
      "source": [
        "num = int(input(\"Enter the Number: \"))\n",
        "\n",
        "for i in range(0, num):\n",
        "    for j in range(0, num-i-1):\n",
        "        print(\" \",end=\" \")\n",
        "    for j in range(0, i*2+1):\n",
        "        print(\"*\", end=\" \")\n",
        "    print()\n",
        "\n",
        "for i in range(1, num):\n",
        "    for j in range(0, i):\n",
        "        print(\" \",end=\" \")\n",
        "    for j in range(0, (num-i)*2-1):\n",
        "        print(\"*\", end=\" \")\n",
        "    print()"
      ],
      "metadata": {
        "id": "JfNYRm-PlNo5"
      },
      "execution_count": null,
      "outputs": []
    },
    {
      "cell_type": "code",
      "source": [
        "rows = int(input(\"Enter rows:\"))\n",
        "cols = int(input(\"Enter Cols:\"))\n",
        "\n",
        "for i in range(0, rows):\n",
        "    for j in range(1, i+1):\n",
        "        print(\" \", end=\" \")\n",
        "    for j in range(0, cols):\n",
        "        print(\"*\", end=\" \")\n",
        "    print()"
      ],
      "metadata": {
        "id": "YKaT91awoltI"
      },
      "execution_count": null,
      "outputs": []
    },
    {
      "cell_type": "code",
      "source": [
        "num=int(input(\"enter the number :\"))\n",
        "for i in range(0, num):\n",
        "  for j in range(0,num-i-1):\n",
        "    print(\" \",end=\" \")\n",
        "  for j in range(0, i*2+1):\n",
        "    print(\"*\",end=\" \")\n",
        "  print()"
      ],
      "metadata": {
        "id": "H-UBi9sPrHm3"
      },
      "execution_count": null,
      "outputs": []
    },
    {
      "cell_type": "code",
      "source": [
        "num=int(input(\"enter the number :\"))\n",
        "for i in range(0, num):\n",
        "  for j in range(0,num-i+1):\n",
        "    print(\" \",end=\" \")\n",
        "  for j in range(0, i*2+1):\n",
        "    print(\"*\",end=\" \")\n",
        "  print()\n",
        "for i in range(1, num):\n",
        "  for j in range(0,i):\n",
        "    print(\" \",end=\" \")\n",
        "  for j in range(0, (num-i)*2+1):\n",
        "    print(\"*\",end=\" \")\n",
        "  print()\n"
      ],
      "metadata": {
        "id": "_3s7237fucBA"
      },
      "execution_count": null,
      "outputs": []
    },
    {
      "cell_type": "code",
      "source": [
        "\n",
        "num=int(input(\"enter the number :\"))\n",
        "for i in range(1, num):\n",
        "  for j in range(0,i):\n",
        "    print(\" \",end=\" \")\n",
        "  for j in range(0, (num-i)*2-1):\n",
        "    print(\"*\",end=\" \")\n",
        "  print()"
      ],
      "metadata": {
        "id": "eynoAYomyNyt"
      },
      "execution_count": null,
      "outputs": []
    },
    {
      "cell_type": "code",
      "source": [
        "def greet():\n",
        "  print('HELLO, GOOD EVENING!')\n",
        "greet()"
      ],
      "metadata": {
        "id": "CRxSHerR1ica"
      },
      "execution_count": null,
      "outputs": []
    },
    {
      "cell_type": "code",
      "source": [
        "def fun():\n",
        "  a=10\n",
        "  b=20\n",
        "  print(a+b)\n",
        "fun()"
      ],
      "metadata": {
        "id": "g8hYTf5X3ntv"
      },
      "execution_count": null,
      "outputs": []
    },
    {
      "cell_type": "code",
      "source": [
        "def fun(a,b):\n",
        "  print(\"Addition of two numbers is:\",a+b)\n",
        "fun(50,20)\n",
        "fun(100,200)\n",
        "fun(85,69)"
      ],
      "metadata": {
        "id": "kMM32BCW4IH9"
      },
      "execution_count": null,
      "outputs": []
    },
    {
      "cell_type": "code",
      "source": [
        "def pen(name):\n",
        "  print(\"My name is\",name)\n",
        "pen(\"Vedant\")\n",
        "pen(\"sanat\")"
      ],
      "metadata": {
        "id": "kBQmiolN5ABs"
      },
      "execution_count": null,
      "outputs": []
    },
    {
      "cell_type": "code",
      "source": [
        "def hello(x,y):\n",
        "  return x+y\n",
        "hello(20,40)"
      ],
      "metadata": {
        "id": "0Zb5GMjj5_2U"
      },
      "execution_count": null,
      "outputs": []
    },
    {
      "cell_type": "code",
      "source": [
        "def text(name,address,course,place):\n",
        "  print(\"i,m\",name,\"from\",address,\"i have completed\",course,\"from\",place)\n",
        "text(\"vedant\",\"manochiwadi\",\"PUC\",\"vsm college,nipani\")"
      ],
      "metadata": {
        "id": "hb_RtsLT7ZaU"
      },
      "execution_count": null,
      "outputs": []
    },
    {
      "cell_type": "code",
      "source": [
        "def fun(number):\n",
        "  if number%2==0:\n",
        "     print(\"number is even\")\n",
        "  else:\n",
        "     print(\"number is odd\")\n",
        "fun(100)"
      ],
      "metadata": {
        "id": "Yk5jAeoRsG9b"
      },
      "execution_count": null,
      "outputs": []
    },
    {
      "cell_type": "code",
      "source": [
        "def num(value):\n",
        "  print(\"4 square is :\",value*value)\n",
        "num(4)"
      ],
      "metadata": {
        "id": "pXdUygB_Qlsb"
      },
      "execution_count": null,
      "outputs": []
    },
    {
      "cell_type": "code",
      "source": [
        "def factorial(value):\n",
        "  fact=1\n",
        "  for i in range(1,value + 1):\n",
        "    fact=fact*i\n",
        "  print(\"factorial number is\",fact)\n",
        "factorial(4)"
      ],
      "metadata": {
        "id": "FB2LAQsFRtR6"
      },
      "execution_count": null,
      "outputs": []
    },
    {
      "cell_type": "code",
      "source": [
        "def pen(num):\n",
        "  return num*num\n",
        "pen(4)"
      ],
      "metadata": {
        "id": "qOKEac0fTlIy"
      },
      "execution_count": null,
      "outputs": []
    },
    {
      "cell_type": "code",
      "source": [
        "def add(a,b):\n",
        "  return a+b\n",
        "print(\"adition of two numbers is:\",add(5,3))"
      ],
      "metadata": {
        "id": "8ZVg7B6lVmyh"
      },
      "execution_count": null,
      "outputs": []
    },
    {
      "cell_type": "code",
      "source": [
        "#POSITIONAL ARGUMENT\n",
        "def details(name,section,div,course):\n",
        "  print(\"Good morning,\",\"I'm\",name,\"i'm studying in\",section,\"first semester,\",\"section\",div,\"and last 6 days i'm attending,\",course,\"classes.\")\n",
        "details(\"vedant\",\"BCA\",\"B\",\"python\")"
      ],
      "metadata": {
        "id": "kZ04uG_PZO_P"
      },
      "execution_count": null,
      "outputs": []
    },
    {
      "cell_type": "code",
      "source": [
        "#KEY WORD ARGUMENT\n",
        "def classes(day1,day2,day3,day4,day5,day6):\n",
        "  print(\"DAY 1:\",day1,\"DAY 2:\",day2,\"DAY 3:\",day3,\"DAY 4:\",day4,\"DAY 5:\",day5,\"DAY 6:\",day6)\n",
        "classes(\"Language,programing,program,programing language types,advantages\",\"python programing languages,python installation\",\"variable,varialbe naming rules,data types in python\",\"type casting,operator\",\"types of operator,python conditional statement\",\"python loops,break,continue,pass,statements\")"
      ],
      "metadata": {
        "id": "W45ghwoNcfjj"
      },
      "execution_count": null,
      "outputs": []
    },
    {
      "cell_type": "code",
      "source": [
        "def lab(f_day,s_day,t_day,d_day):\n",
        "  print(\"i learned\",f_day,s_day,d_day,t_day)\n",
        "lab(f_day=\"Conditinal\",d_day=\"itroductionn\",s_day=\"basic\",t_day=\"types\")"
      ],
      "metadata": {
        "id": "L6UC0Tcti-Ny"
      },
      "execution_count": null,
      "outputs": []
    },
    {
      "cell_type": "code",
      "source": [
        "def book(name=\"VEDANT\"):\n",
        "  print(\"My name is :\",name)\n",
        "book(\"ved\")\n",
        "book()"
      ],
      "metadata": {
        "id": "YNG7LhUWg1H0"
      },
      "execution_count": null,
      "outputs": []
    },
    {
      "cell_type": "code",
      "source": [
        "def add(*numbers):\n",
        "  print(\"Argumentsv:\",numbers)\n",
        "  total=sum(numbers)\n",
        "  print(\"sum\",total)\n",
        "add(2,3,5)\n"
      ],
      "metadata": {
        "id": "2EHgoel9lkku"
      },
      "execution_count": null,
      "outputs": []
    },
    {
      "cell_type": "code",
      "source": [
        "def info(**details):\n",
        "  print(\"keyword argumnets\",details)\n",
        "  for key value in details.items():\n",
        "    print(f\"{key} : {value}:\")\n",
        "info(name=\"vedant\",age=18,city=\"bangalore\")"
      ],
      "metadata": {
        "id": "8QfWkqH6n0Ff"
      },
      "execution_count": null,
      "outputs": []
    },
    {
      "cell_type": "code",
      "source": [
        "i=10\n",
        "j=20\n",
        "print(f'Addition of {i} and {j} value is {i+j}')"
      ],
      "metadata": {
        "id": "o_BCp5Q-qy1f"
      },
      "execution_count": null,
      "outputs": []
    },
    {
      "cell_type": "code",
      "source": [
        "a=\"Vedant\"\n",
        "b=\"VSM COLLEGE,NIPANI\"\n",
        "c=81.16\n",
        "d=2025\n",
        "print(f'i am {a},i passed 2nd puc in {b} my percentage is :{c} in the year {d}')"
      ],
      "metadata": {
        "id": "3TkHzSAFsQB1"
      },
      "execution_count": null,
      "outputs": []
    },
    {
      "cell_type": "code",
      "source": [
        "def fact(n):\n",
        "  if n==0 or n==1:\n",
        "    return n\n",
        "  else:\n",
        "    return n*fact(n-1)\n",
        "print(f'factorial number is:{fact(5)}')\n"
      ],
      "metadata": {
        "id": "EJvzzWtLunlo"
      },
      "execution_count": null,
      "outputs": []
    },
    {
      "cell_type": "code",
      "source": [
        "a=101\n",
        "b=50\n",
        "print(f'Substract of {a} and {b} value is {a-b}')"
      ],
      "metadata": {
        "id": "MO9BMIjvgHjL"
      },
      "execution_count": null,
      "outputs": []
    },
    {
      "cell_type": "code",
      "source": [
        "a=10\n",
        "b=20\n",
        "print(f'Multification of {a} and {b} value is {a*b}')"
      ],
      "metadata": {
        "id": "9KyOwPYriCX7"
      },
      "execution_count": null,
      "outputs": []
    },
    {
      "cell_type": "code",
      "source": [
        "a=50\n",
        "b=20\n",
        "print(f'Division of {a} and {b} value is {a/b}')"
      ],
      "metadata": {
        "id": "3W-G8REqiLV4"
      },
      "execution_count": null,
      "outputs": []
    },
    {
      "cell_type": "code",
      "source": [
        "a=51\n",
        "b=2\n",
        "print(f'Modulus of {a} and {b} value is {a%b}')"
      ],
      "metadata": {
        "id": "dRrZ_FK6iSXb"
      },
      "execution_count": null,
      "outputs": []
    },
    {
      "cell_type": "code",
      "source": [
        "def fibo(num):\n",
        "  if num<=1:\n",
        "    return num\n",
        "  else:\n",
        "    return fibo(num-1)+fibo(num-2)\n",
        "for i in range(11):\n",
        "  print(fibo(i),end=\" \")"
      ],
      "metadata": {
        "id": "1HiRLClhjNgL"
      },
      "execution_count": null,
      "outputs": []
    },
    {
      "cell_type": "code",
      "source": [
        "#OOPS\n",
        "class myclass:\n",
        "  x=5\n",
        "  name=\"vedant\"\n",
        "  def fun(self):\n",
        "    print(\"yes im under stand oops concept\")\n",
        "\n",
        "p1=myclass()\n",
        "print(p1.x)\n",
        "print(p1.name)\n",
        "print(p1.fun())"
      ],
      "metadata": {
        "id": "fms4Ax6kkDPr"
      },
      "execution_count": null,
      "outputs": []
    },
    {
      "cell_type": "code",
      "source": [
        "#CLASS\n",
        "def person:\n",
        "  def _int_(self,name,age):\n",
        "    self.name=name\n",
        "    self.age=age\n",
        "def greet(self):\n",
        "  print(\"Hello,My name is\"+self name)"
      ],
      "metadata": {
        "id": "3KDiwZRTwtoN"
      },
      "execution_count": null,
      "outputs": []
    },
    {
      "cell_type": "code",
      "source": [
        "class Bank:\n",
        "  def __init__(self,balance):\n",
        "    self.balance=balance       #1000\n",
        "  def deposit(self,amount):\n",
        "    self.balance += amount     #500\n",
        "  def withdraw(self,amount):\n",
        "    if amount<=self.balance:        #300 < 1500\n",
        "       print(f'withdraw successfully: {amount}')\n",
        "    else:\n",
        "       print(\"Insufficient balance\")\n",
        "  def get_balance(self):\n",
        "    return self.balance\n",
        "\n",
        "B=Bank(1000)\n",
        "B.deposit(500)\n",
        "B.deposit(700)\n",
        "B.withdraw(700)\n",
        "B.withdraw(300)\n",
        "print(f'remaining balance: {B.get_balance()}')"
      ],
      "metadata": {
        "id": "pfDQx77mxXzT"
      },
      "execution_count": null,
      "outputs": []
    },
    {
      "cell_type": "code",
      "source": [
        "\\"
      ],
      "metadata": {
        "id": "qZaseimx8up0"
      },
      "execution_count": null,
      "outputs": []
    },
    {
      "cell_type": "code",
      "source": [
        "class student:\n",
        "  def __init__(self, name, age):\n",
        "    self.my_name=name\n",
        "    self.my_age=age\n",
        "\n",
        "  def display(self):\n",
        "    print(\"name:\", self.my_name, \"age:\", self.my_age)\n",
        "\n",
        "s1=student(\"VEDANT\",18)\n",
        "s2=student(\"SHAHU\",56)\n",
        "\n",
        "s1.display()\n",
        "s2.display()"
      ],
      "metadata": {
        "id": "15ILvI3H-7IF"
      },
      "execution_count": null,
      "outputs": []
    },
    {
      "cell_type": "code",
      "source": [
        "class parent:\n",
        "  def greet(self):\n",
        "    print(\"Helllo from parent\")\n",
        "\n",
        "class Child(parent):\n",
        "  def display(self):\n",
        "    print(\"Hello from child\")\n",
        "\n",
        "obj=Child()\n",
        "obj.greet()\n",
        "obj.display()"
      ],
      "metadata": {
        "id": "sIkF1aP4F-ju"
      },
      "execution_count": null,
      "outputs": []
    },
    {
      "cell_type": "code",
      "source": [
        "class father:\n",
        "  def skill(self):\n",
        "    print(\"driving\")\n",
        "\n",
        "class mother(father):\n",
        "  def talent(self):\n",
        "    print(\"cooking\")\n",
        "\n",
        "class child(mother):\n",
        "  def hubby(self):\n",
        "    print(\"singing\")\n",
        "\n",
        "obj=child()\n",
        "obj.skill()\n",
        "obj.talent()\n",
        "obj.hubby()"
      ],
      "metadata": {
        "id": "0PDXO8tZJB6j"
      },
      "execution_count": null,
      "outputs": []
    },
    {
      "cell_type": "markdown",
      "source": [
        "##DAY 8"
      ],
      "metadata": {
        "id": "bSONUI-vJAvY"
      }
    },
    {
      "cell_type": "code",
      "source": [
        "class flowers:\n",
        "  colour=\"Red\"\n",
        "  shape =\"Round\"\n",
        "  f_type=\"Rose\"\n",
        "  size=\"Small\"\n",
        "\n",
        "  def smell(self):\n",
        "    print(\"Good smell\")\n",
        "  def attract(self):\n",
        "    print(\"colourfull\")\n",
        "  def honey(self):\n",
        "    print(\"Honey very sweet\")\n",
        "\n",
        "obj= flowers()\n",
        "print(obj.colour)\n",
        "obj.smell()\n",
        "print(obj.size)\n",
        "obj.honey()"
      ],
      "metadata": {
        "id": "l8_l7oDiQygz"
      },
      "execution_count": null,
      "outputs": []
    },
    {
      "cell_type": "code",
      "source": [
        "class Bag():\n",
        "  color=\"black\"\n",
        "  brand=\"Nike\"\n",
        "  B_type=\"school bag\"\n",
        "  size=\"Large\"\n",
        "\n",
        "  def wp(self):\n",
        "    print(\"it is a waterproof\")\n",
        "  def use(self):\n",
        "    print(\"it is used to keep book\")\n",
        "  def parts(self):\n",
        "    print(\"it has a 5 pockets\")\n",
        "  def quality(self):\n",
        "    print(\"it has a strong \")\n",
        "\n",
        "  obj=Bag()\n",
        "  print(obj.color)\n",
        "  print(obj.brand)\n",
        "  print(obj.size)\n",
        "  print(obj.B_type)\n",
        "  print()\n",
        "  obj.wp()\n",
        "  obj.parts()\n",
        "  obj.use()\n",
        "  obj.quality()"
      ],
      "metadata": {
        "id": "ZRVbzNaGRWWj"
      },
      "execution_count": null,
      "outputs": []
    },
    {
      "cell_type": "code",
      "source": [
        "#Encapsulation\n",
        "class Student():\n",
        "  def __init__(self,name,marks):\n",
        "    self.__name=name\n",
        "    self.__marks=marks\n",
        "  def set_method(self,marks):\n",
        "    self.marks=marks\n",
        "  def get_method(self):\n",
        "    return self.marks\n",
        "\n",
        "\n",
        "obj=Student(\"Vedant\",82)\n",
        "obj.set_method(50)\n",
        "print(obj.get_method())"
      ],
      "metadata": {
        "id": "21oouAJ5VO5p"
      },
      "execution_count": null,
      "outputs": []
    },
    {
      "cell_type": "code",
      "source": [
        "# single inheritance\n",
        "\n",
        "class Parents():\n",
        "  Age=50\n",
        "\n",
        "  def work(self):\n",
        "    print(\"Parents are very good\")\n",
        "\n",
        "class Children(Parents):\n",
        "  age =18\n",
        "  def study(self):\n",
        "    print(\"Childrens are very bad\")\n",
        "\n",
        "obj=Children()\n",
        "obj.work()\n",
        "print(obj.Age)\n",
        "obj.study()\n",
        "print(obj.age)"
      ],
      "metadata": {
        "id": "iO89dlaLYYT8"
      },
      "execution_count": null,
      "outputs": []
    },
    {
      "cell_type": "code",
      "source": [
        "#multriple 9inheritance\n",
        "class Father:\n",
        "  def farmer(self):\n",
        "    print(\"My father was doing farmer work\")\n",
        "\n",
        "class Mother:\n",
        "  def house(self):\n",
        "    print(\"MY mother is house wife\")\n",
        "\n",
        "class Children(Father,Mother):\n",
        "  def jolly(self):\n",
        "    print(\"I'm studying BCA 1st sem\")\n",
        "\n",
        "obj=Children()\n",
        "obj.jolly()\n",
        "obj.farmer()\n",
        "obj.house()\n"
      ],
      "metadata": {
        "id": "ILMozAWAcTNx"
      },
      "execution_count": null,
      "outputs": []
    },
    {
      "cell_type": "code",
      "source": [
        "#multilevel\n",
        "\n",
        "class Grand_Father:\n",
        "  def hi(self):\n",
        "    print(\"I'm 87 years old\")\n",
        "\n",
        "class Father(Grand_Father):\n",
        "  def Hello(self):\n",
        "    print(\"I'm 50 years old\")\n",
        "\n",
        "class Children(Father):\n",
        "  def Bye(self):\n",
        "    print(\"I'm 18 years old\")\n",
        "\n",
        "obj=Children()\n",
        "obj.hi()\n",
        "obj.Hello()\n",
        "obj.Bye()"
      ],
      "metadata": {
        "id": "2pOVPFiWelFm"
      },
      "execution_count": null,
      "outputs": []
    },
    {
      "cell_type": "code",
      "source": [
        "#Hire\n",
        "class Degree:\n",
        "  def ok(self):\n",
        "    print(\"We are studying Degree course\")\n",
        "\n",
        "class BCA(Degree):\n",
        "  def Hi(self):\n",
        "    print(\"I'm BCA student\")\n",
        "\n",
        "class BSC(Degree):\n",
        "  def science(self):\n",
        "    print(\"I'm BSC student\")\n",
        "\n",
        "obj=BCA()\n",
        "obj.ok()\n",
        "obj.Hi()\n",
        "print()\n",
        "obj=BSC()\n",
        "obj.ok()\n",
        "obj.science()\n",
        "\n"
      ],
      "metadata": {
        "id": "OZDTysdpfm6N"
      },
      "execution_count": null,
      "outputs": []
    },
    {
      "cell_type": "code",
      "source": [
        "#Hybrid inheritance\n",
        "class A:\n",
        "  def Hi(self):\n",
        "    print(\"Good Morning\")\n",
        "class B(A):\n",
        "  def Hello(self):\n",
        "    print(\"Good Afternoon\")\n",
        "class C(A):\n",
        "  def Bye(self):\n",
        "    print(\"Good Evening\")\n",
        "class D(B,C):\n",
        "  def Goodbye(self):\n",
        "    print(\"Good ningt\")\n",
        "\n",
        "obj=D()\n",
        "obj.Hi()\n",
        "obj.Hello()\n",
        "obj.Bye()\n",
        "obj.Goodbye()"
      ],
      "metadata": {
        "id": "HWM4hBO5iTpo"
      },
      "execution_count": null,
      "outputs": []
    },
    {
      "cell_type": "code",
      "source": [
        "#Run Time polymorphism\n",
        "#METHOD OVERIDING\n",
        "class Animal:\n",
        "  def sound(self):\n",
        "    print(\"Animal makes a sound\")\n",
        "\n",
        "class Dog(Animal):\n",
        "  def sound(self):\n",
        "    print(\"bow bow bow\")\n",
        "\n",
        "class Cat(Animal):\n",
        "  def sound(self):\n",
        "    print(\"Meow Meow.....\")\n",
        "\n",
        "class Cow(Animal):\n",
        "  def sound(self):\n",
        "    print(\"Amboooooo\")\n",
        "\n",
        "obj=Animal()\n",
        "obj.sound()\n",
        "obj=Dog()\n",
        "obj.sound()\n",
        "obj=Cat()\n",
        "obj.sound()\n",
        "obj=Cow()\n",
        "obj.sound()"
      ],
      "metadata": {
        "id": "mkGRhCiNkyrc"
      },
      "execution_count": null,
      "outputs": []
    },
    {
      "cell_type": "code",
      "source": [
        "#Compile ytpe polymorphism\n",
        "#method overloading\n",
        "\n",
        "class Match:\n",
        "  def add(self,a,b=0,c=0):\n",
        "    return a+b+c\n",
        "\n",
        "obj=Match()\n",
        "print(obj.add(5))\n",
        "print(obj.add(5,5))\n",
        "print(obj.add(4,5,6))"
      ],
      "metadata": {
        "id": "Hk_bMDyKohZT"
      },
      "execution_count": null,
      "outputs": []
    },
    {
      "cell_type": "code",
      "source": [
        "#Operator\n",
        "\n",
        "first=int(input(\"enter first number\"))\n",
        "second=int(input(\"enter second number\"))\n",
        "print(first+second)"
      ],
      "metadata": {
        "id": "LJV_vpaFrt3j"
      },
      "execution_count": null,
      "outputs": []
    },
    {
      "cell_type": "code",
      "source": [
        "#operator overloading\n",
        "\n",
        "class Book:\n",
        "  def __init__(self,pages):\n",
        "    self.pages=pages\n",
        "  def __add__(self,other):\n",
        "    return self.pages+other.pages\n",
        "\n",
        "b1=Book(100)\n",
        "b2=Book(200)\n",
        "print(\"total number of pages:\",b1+b2)"
      ],
      "metadata": {
        "id": "uXDj5dWWtdLd"
      },
      "execution_count": null,
      "outputs": []
    },
    {
      "cell_type": "code",
      "source": [
        "#Abstaction\n",
        "from abc import ABC, abstractmethod\n",
        "class Programe(ABC):\n",
        "  def method(self):\n",
        "    pass\n",
        "\n",
        "class SubPrograme(Programe):\n",
        "  def method(self):\n"
      ],
      "metadata": {
        "id": "ntgATUQBxda5"
      },
      "execution_count": null,
      "outputs": []
    },
    {
      "cell_type": "code",
      "source": [
        " #Numari\n",
        "import numpy as np\n",
        "arr=np.array([1,2,3,4,5])\n",
        "print(\"NumPy Array:\",arr)\n"
      ],
      "metadata": {
        "id": "aX-4XeQ7eFeu"
      },
      "execution_count": null,
      "outputs": []
    },
    {
      "cell_type": "code",
      "source": [
        "2#Array with zeros and ones\n",
        "import numpy as np\n",
        "zeros=np.zeros(5)\n",
        "ones=np.ones(5)\n",
        "print(\"Zeros:\",zeros)\n",
        "print(\"Ones:\",ones)"
      ],
      "metadata": {
        "id": "_Q-zO6H7zFru"
      },
      "execution_count": null,
      "outputs": []
    },
    {
      "cell_type": "code",
      "source": [
        "3#BASIC arthamatic on array\n",
        "import numpy as np\n",
        "a=np.array([10,20,30])\n",
        "b=np.array([1,2,3])\n",
        "print(\"Addition:\",a+b)\n",
        "print(\"Multification:\",a*b)"
      ],
      "metadata": {
        "id": "KNL9YafCzPH9"
      },
      "execution_count": null,
      "outputs": []
    },
    {
      "cell_type": "code",
      "source": [
        "4#Mathematical Functions\n",
        "import numpy as np\n",
        "arr=np.array([1,4,9,16])\n",
        "print(\"Square root:\",np.sqrt(arr))\n",
        "print(\"Mean:\",np.mean(arr))\n"
      ],
      "metadata": {
        "id": "aZGEMckh2EJJ"
      },
      "execution_count": null,
      "outputs": []
    },
    {
      "cell_type": "code",
      "source": [
        "5#2D Array\n",
        "import numpy as np\n",
        "matrix=np.array([[1,2],[3,4]])\n",
        "print(\"Matrix:\\n\",matrix)"
      ],
      "metadata": {
        "id": "-4e_5tr-5HR-"
      },
      "execution_count": null,
      "outputs": []
    },
    {
      "cell_type": "code",
      "source": [
        "class Dictionary:\n",
        "  def __init__(self):\n",
        "    self.word = {}\n",
        "\n",
        "  def add_word(self, word, meaning):\n",
        "    if word in self.word:\n",
        "      print(f\"'{word}' already exists in dictionary. Duplicate not allowed!\")\n",
        "    else:\n",
        "      self.word[word]=meaning\n",
        "      print(f\"'{word}' added successfully!\")\n",
        "\n",
        "  def search_word(self, word):\n",
        "    if word in self.word:\n",
        "      print(\"\\n===== Search Result ======\")\n",
        "      print(f\"{'word':<15} | {'meaning'}\")\n",
        "      print(\"-\" * 40)\n",
        "      print(f\"{word:<15} | {self.word[word]}\")\n",
        "      print(\"-\" * 40)\n",
        "    else:\n",
        "      print(f\"'{word}' not found in dictionary.\")\n",
        "\n",
        "  def show_all(self):\n",
        "    if not self.word:\n",
        "      print(\"Dictionary is empty.\")\n",
        "    else:\n",
        "      print(\"\\n===== My Dictionary (Alphabetical Order) =====\")\n",
        "      print(f\"{'word':<15} | {'meaning'}\")\n",
        "      print(\"-\" * 40)\n",
        "      for word in sorted(self.word.keys()):\n",
        "        print(f\"{word:<15} | {self.word[word]}\")\n",
        "      print(\"-\" * 40)\n",
        "\n",
        "  def update_word(self, word, new_meaning):\n",
        "    if word in self.word:\n",
        "      self.word[word] = new_meaning\n",
        "      print(f\"'{word}' updated successfully!\")\n",
        "    else:\n",
        "      print(f\"'{word}' not found. cannot update.\")\n",
        "\n",
        "\n",
        "def main():\n",
        "  my_dict = Dictionary()\n",
        "\n",
        "  while True:\n",
        "    print(\"\\n===== Digital Dictionary Menu =====\")\n",
        "    print(\"1. Add Word\")\n",
        "    print(\"2. search Word\")\n",
        "    print(\"3. Show All Words\")\n",
        "    print(\"4. Update Word Meaning\")\n",
        "    print(\"5. Exit\")\n",
        "\n",
        "    choice = input(\"Enter choice:\")\n",
        "\n",
        "    if choice == \"1\":\n",
        "      word = input(\"Enter word:\")\n",
        "      meaning = input(\"Enter meaning:\")\n",
        "      my_dict.add_word(word, meaning)\n",
        "\n",
        "    elif choice == \"2\":\n",
        "      word = input(\"Enter word to search:\")\n",
        "      my_dict.search_word(word)\n",
        "\n",
        "    elif choice == \"3\":\n",
        "      my_dict.show_all()\n",
        "\n",
        "    elif choice == \"4\":\n",
        "      word = input(\"Enter word to update: \")\n",
        "      meaning = input(\"Enter new meaning: \")\n",
        "      my_dict.update_word(word, meaning)\n",
        "\n",
        "    elif choice == \"5\":\n",
        "      print(\"Exiting Dictionary... Goodbye!\")\n",
        "      break\n",
        "\n",
        "    else:\n",
        "      print(\"Invalid choice. Try again.\")\n",
        "\n",
        "\n",
        "# Run th program\n",
        "if __name__ == \"__main__\":\n",
        "  main()"
      ],
      "metadata": {
        "id": "a4UECZzEMH5f"
      },
      "execution_count": null,
      "outputs": []
    }
  ],
  "metadata": {
    "colab": {
      "provenance": []
    },
    "kernelspec": {
      "display_name": "Python 3",
      "name": "python3"
    },
    "language_info": {
      "name": "python"
    }
  },
  "nbformat": 4,
  "nbformat_minor": 0
}